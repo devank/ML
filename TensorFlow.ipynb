{
    "metadata": {
        "language_info": {
            "file_extension": ".py", 
            "mimetype": "text/x-python", 
            "codemirror_mode": {
                "version": 2, 
                "name": "ipython"
            }, 
            "pygments_lexer": "ipython2", 
            "name": "python", 
            "version": "2.7.11", 
            "nbconvert_exporter": "python"
        }, 
        "kernelspec": {
            "display_name": "Python 2 with Spark 2.1", 
            "language": "python", 
            "name": "python2-spark21"
        }
    }, 
    "cells": [
        {
            "outputs": [], 
            "cell_type": "code", 
            "execution_count": 1, 
            "metadata": {
                "collapsed": true
            }, 
            "source": "import numpy as np\nimport tensorflow as tf"
        }, 
        {
            "outputs": [
                {
                    "output_type": "stream", 
                    "text": "0.0\n", 
                    "name": "stdout"
                }
            ], 
            "cell_type": "code", 
            "execution_count": 14, 
            "metadata": {}, 
            "source": "coefficients = np.array([[1.],[-20.],[100.]])\nw = tf.Variable(0,dtype=tf.float32)\nx = tf.placeholder(tf.float32, [3,1])\n#cost = tf.add(tf.add((w**2),(tf.multiply(w,-10))),25)\n#cost = w**2 - 10*w + 25\ncost = x[0][0]*w**2 + x[1][0]*w + x[2][0]\ntrain = tf.train.GradientDescentOptimizer(0.01).minimize(cost)\n\ninit = tf.global_variables_initializer()\nsession = tf.Session()\nsession.run(init)\n\nprint(session.run(w))"
        }, 
        {
            "outputs": [
                {
                    "output_type": "stream", 
                    "text": "0.2\n", 
                    "name": "stdout"
                }
            ], 
            "cell_type": "code", 
            "execution_count": 15, 
            "metadata": {}, 
            "source": "session.run(train, feed_dict={x:coefficients})\nprint(session.run(w))"
        }, 
        {
            "outputs": [
                {
                    "output_type": "stream", 
                    "text": "9.99998\n", 
                    "name": "stdout"
                }
            ], 
            "cell_type": "code", 
            "execution_count": 16, 
            "metadata": {}, 
            "source": "for i in range(1000):\n    session.run(train, feed_dict={x:coefficients})\nprint(session.run(w))"
        }, 
        {
            "outputs": [], 
            "cell_type": "code", 
            "execution_count": null, 
            "metadata": {
                "collapsed": true
            }, 
            "source": ""
        }
    ], 
    "nbformat": 4, 
    "nbformat_minor": 1
}